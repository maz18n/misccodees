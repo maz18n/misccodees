{
 "cells": [
  {
   "cell_type": "code",
   "execution_count": 1,
   "metadata": {
    "collapsed": true
   },
   "outputs": [],
   "source": [
    "\n",
    "Identifiers:\n",
    "\n",
    "\\d = any number\n",
    "\\D = anything but a number\n",
    "\\s = space\n",
    "\\S = anything but a space\n",
    "\\w = any letter\n",
    "\\W = anything but a letter\n",
    ". = any character, except for a new line\n",
    "\\b = space around whole words\n",
    "\\. = period. must use backslash, because . normally means any character.\n",
    "Modifiers:\n",
    "\n",
    "{1,3} = for digits, u expect 1-3 counts of digits, or \"places\"\n",
    "+ = match 1 or more\n",
    "? = match 0 or 1 repetitions.\n",
    "* = match 0 or MORE repetitions\n",
    "$ = matches at the end of string\n",
    "^ = matches start of a string\n",
    "| = matches either/or. Example x|y = will match either x or y\n",
    "[] = range, or \"variance\"\n",
    "{x} = expect to see this amount of the preceding code.\n",
    "{x,y} = expect to see this x-y amounts of the precedng code\n",
    "White Space Charts:\n",
    "\n",
    "\\n = new line\n",
    "\\s = space\n",
    "\\t = tab\n",
    "\\e = escape\n",
    "\\f = form feed\n",
    "\\r = carriage return\n",
    "Characters to REMEMBER TO ESCAPE IF USED!\n",
    "\n",
    ". + * ? [ ] $ ^ ( ) { } | \\\n",
    "Brackets:\n",
    "\n",
    "[] = quant[ia]tative = will find either quantitative, or quantatative.\n",
    "[a-z] = return any lowercase letter a-z\n",
    "[1-5a-qA-Z] = return all numbers 1-5, lowercase letters a-q and uppercase A-Z"
   ]
  },
  {
   "cell_type": "code",
   "execution_count": 3,
   "metadata": {
    "collapsed": true
   },
   "outputs": [],
   "source": [
    "import re\n",
    "exampleString = '''\n",
    "Jessica is 15 years old, and Daniel is 27 years old.\n",
    "Edward is 97 years old, and his grandfather, Oscar, is 102. \n",
    "'''"
   ]
  },
  {
   "cell_type": "code",
   "execution_count": 6,
   "metadata": {},
   "outputs": [
    {
     "name": "stdout",
     "output_type": "stream",
     "text": [
      "['15', '27', '97', '102']\n",
      "['Jessica', 'Daniel', 'Edward', 'Oscar']\n"
     ]
    }
   ],
   "source": [
    "ages = re.findall(r'\\d{1,3}',exampleString)\n",
    "names = re.findall(r'[A-Z][a-z]*',exampleString)\n",
    "\n",
    "print(ages)\n",
    "print(names)"
   ]
  },
  {
   "cell_type": "code",
   "execution_count": null,
   "metadata": {
    "collapsed": true
   },
   "outputs": [],
   "source": []
  }
 ],
 "metadata": {
  "kernelspec": {
   "display_name": "Python 3",
   "language": "python",
   "name": "python3"
  },
  "language_info": {
   "codemirror_mode": {
    "name": "ipython",
    "version": 3
   },
   "file_extension": ".py",
   "mimetype": "text/x-python",
   "name": "python",
   "nbconvert_exporter": "python",
   "pygments_lexer": "ipython3",
   "version": "3.6.3"
  }
 },
 "nbformat": 4,
 "nbformat_minor": 2
}
